{
 "cells": [
  {
   "cell_type": "code",
   "execution_count": 1,
   "id": "ecc2ad1d",
   "metadata": {},
   "outputs": [
    {
     "name": "stdout",
     "output_type": "stream",
     "text": [
      "Defaulting to user installation because normal site-packages is not writeable\n",
      "Requirement already satisfied: scipy in /home/ilenia/.local/lib/python3.8/site-packages (1.9.1)\n",
      "Requirement already satisfied: numpy<1.25.0,>=1.18.5 in /home/ilenia/.local/lib/python3.8/site-packages (from scipy) (1.22.3)\n",
      "\u001b[33mWARNING: You are using pip version 22.0.4; however, version 22.3.1 is available.\n",
      "You should consider upgrading via the '/usr/bin/python3 -m pip install --upgrade pip' command.\u001b[0m\u001b[33m\n",
      "\u001b[0m"
     ]
    }
   ],
   "source": [
    "# ---- Libraries -----\n",
    "\n",
    "from fenics import *\n",
    "import numpy as np\n",
    "import matplotlib.pyplot as plt\n",
    "import math\n",
    "from dolfin import *\n",
    "!pip install scipy\n",
    "import scipy"
   ]
  },
  {
   "cell_type": "code",
   "execution_count": 2,
   "id": "464c6ee3",
   "metadata": {},
   "outputs": [],
   "source": [
    "# ---- Parameters-----\n",
    "\n",
    "# File name\n",
    "filename = \"test1_3D\"       # [[0.01, 0, 0], [0, 0.01, 0], [0, 0, 0.01]], p=1\n",
    "#filename = \"test2_3D\"      # [[0.01, 0, 0], [0, 0.01, 0], [0, 0, 0.01]], p=2\n",
    "#filename = \"test3_3D\"      # [[0.01, 0.01, 0], [0.01, 0.01, 0], [0, 0, 0.01]], p=1\n",
    "#filename = \"test4_3D\"      # [[0.01, 0.01, 0], [0.01, 0.01, 0], [0, 0, 0.01]], p=2\n",
    "\n",
    "# Diffusion (choose the coefficients accordingly to the test)\n",
    "d11 = 0.01\n",
    "d12 = 0\n",
    "d13 = 0\n",
    "\n",
    "d21 = 0\n",
    "d22 = 0.01\n",
    "d23 = 0\n",
    "\n",
    "d31 = 0\n",
    "d32 = 0\n",
    "d33 = 0.01\n",
    "\n",
    "components_D = [[d11, d12, d13], [d21, d22, d23], [d31, d32, d33]]\n",
    "\n",
    "\n",
    "# Time\n",
    "t0 = 0\n",
    "dt = 1e-5\n",
    "num_steps = 10\n",
    "T = num_steps*dt\n",
    "\n",
    "\n",
    "# Functional space\n",
    "p = 1               # polynomial degree \n",
    "\n",
    "# Stabilization\n",
    "alpha = 3\n",
    "\n",
    "# Initial datum\n",
    "u0 = Expression('(1-cos(2*pi*x[0]))*(1-cos(2*pi*x[1]))*(1-cos(2*pi*x[2]))', degree = p) # bump\n",
    "\n",
    "# Exact solution\n",
    "u_ex = Expression('exp(-t)*(1-cos(2*pi*x[0]))*(1-cos(2*pi*x[1]))*(1-cos(2*pi*x[2]))', t = 0, degree = p)\n",
    "\n",
    "# Force\n",
    "f = Expression('exp(-t)*(cos(2*pi*x[0]) - 1)*(cos(2*pi*x[1]) - 1)*(cos(2*pi*x[2]) - 1) + exp(-t)*(exp(-t)*(cos(2*pi*x[0]) - 1)*(cos(2*pi*x[1]) - 1)*(cos(2*pi*x[2]) - 1) + 1)*(cos(2*pi*x[0]) - 1)*(cos(2*pi*x[1]) - 1)*(cos(2*pi*x[2]) - 1) - 4*d11*pi*pi*exp(-t)*cos(2*pi*x[0])*(cos(2*pi*x[1]) - 1)*(cos(2*pi*x[2]) - 1) - 4*d22*pi*pi*exp(-t)*cos(2*pi*x[1])*(cos(2*pi*x[0]) - 1)*(cos(2*pi*x[2]) - 1) - 4*d33*pi*pi*exp(-t)*cos(2*pi*x[2])*(cos(2*pi*x[0]) - 1)*(cos(2*pi*x[1]) - 1) + 4*d12*pi*pi*exp(-t)*sin(2*pi*x[0])*sin(2*pi*x[1])*(cos(2*pi*x[2]) - 1) + 4*d13*pi*pi*exp(-t)*sin(2*pi*x[0])*sin(2*pi*x[2])*(cos(2*pi*x[1]) - 1) + 4*d21*pi*pi*exp(-t)*sin(2*pi*x[0])*sin(2*pi*x[1])*(cos(2*pi*x[2]) - 1) + 4*d23*pi*pi*exp(-t)*sin(2*pi*x[1])*sin(2*pi*x[2])*(cos(2*pi*x[0]) - 1) + 4*d31*pi*pi*exp(-t)*sin(2*pi*x[0])*sin(2*pi*x[2])*(cos(2*pi*x[1]) - 1) + 4*d32*pi*pi*exp(-t)*sin(2*pi*x[1])*sin(2*pi*x[2])*(cos(2*pi*x[0]) - 1)', t = 0, d11 = d11, d12 = d12, d13 = d13, d21 = d21, d22 = d22, d23 = d23, d31 = d31, d32 = d32, d33 = d33, degree = p)\n",
    "\n",
    "\n",
    "# Neumann boundary condition\n",
    "gN = Expression('0*x[0] + 0*x[1] + 0*x[2]', degree = p)"
   ]
  },
  {
   "cell_type": "code",
   "execution_count": 3,
   "id": "fdfd02f1",
   "metadata": {},
   "outputs": [],
   "source": [
    "# ---- Computations ----\n",
    "\n",
    "# Diffusion tensor\n",
    "D = as_matrix(components_D)\n",
    "norm_D = np.linalg.norm(np.matrix(components_D))"
   ]
  },
  {
   "cell_type": "code",
   "execution_count": 4,
   "id": "d1978351",
   "metadata": {},
   "outputs": [],
   "source": [
    "# ---- Convergence test initialization ----\n",
    "\n",
    "N = np.power(2,[2,3,4,5,6,7])\n",
    "err_H1 = np.zeros(len(N))\n",
    "err_L2 = np.zeros(len(N))"
   ]
  },
  {
   "cell_type": "code",
   "execution_count": 5,
   "id": "3efc54f2",
   "metadata": {},
   "outputs": [
    {
     "name": "stdout",
     "output_type": "stream",
     "text": [
      "Calling FFC just-in-time (JIT) compiler, this may take some time.\n",
      "Solving linear variational problem.\n",
      "Solving linear variational problem.\n",
      "Solving linear variational problem.\n",
      "Solving linear variational problem.\n",
      "Solving linear variational problem.\n",
      "Solving linear variational problem.\n",
      "Solving linear variational problem.\n",
      "Solving linear variational problem.\n",
      "Solving linear variational problem.\n",
      "Solving linear variational problem.\n",
      "*** Warning: Degree of exact solution may be inadequate for accurate result in errornorm.\n",
      "*** Warning: Degree of exact solution may be inadequate for accurate result in errornorm.\n",
      "Solving linear variational problem.\n",
      "Solving linear variational problem.\n",
      "Solving linear variational problem.\n",
      "Solving linear variational problem.\n",
      "Solving linear variational problem.\n",
      "Solving linear variational problem.\n",
      "Solving linear variational problem.\n",
      "Solving linear variational problem.\n",
      "Solving linear variational problem.\n",
      "Solving linear variational problem.\n",
      "*** Warning: Degree of exact solution may be inadequate for accurate result in errornorm.\n",
      "*** Warning: Degree of exact solution may be inadequate for accurate result in errornorm.\n",
      "Calling FFC just-in-time (JIT) compiler, this may take some time.\n",
      "Solving linear variational problem.\n"
     ]
    },
    {
     "ename": "RuntimeError",
     "evalue": "\n\n*** -------------------------------------------------------------------------\n*** DOLFIN encountered an error. If you are not able to resolve this issue\n*** using the information listed below, you can ask for help at\n***\n***     fenics-support@googlegroups.com\n***\n*** Remember to include the error message listed below and, if possible,\n*** include a *minimal* running example to reproduce the error.\n***\n*** -------------------------------------------------------------------------\n*** Error:   Unable to successfully call PETSc function 'KSPSolve'.\n*** Reason:  PETSc error code is: 76 (Error in external library).\n*** Where:   This error was encountered inside /build/dolfin-P9xfrX/dolfin-2019.2.0~git20220407.d29e24d/dolfin/la/PETScKrylovSolver.cpp.\n*** Process: 0\n*** \n*** DOLFIN version: 2019.2.0.dev0\n*** Git changeset:  unknown\n*** -------------------------------------------------------------------------\n",
     "output_type": "error",
     "traceback": [
      "\u001b[0;31m---------------------------------------------------------------------------\u001b[0m",
      "\u001b[0;31mRuntimeError\u001b[0m                              Traceback (most recent call last)",
      "Input \u001b[0;32mIn [5]\u001b[0m, in \u001b[0;36m<cell line: 1>\u001b[0;34m()\u001b[0m\n\u001b[1;32m     55\u001b[0m t \u001b[38;5;241m+\u001b[39m\u001b[38;5;241m=\u001b[39m dt\n\u001b[1;32m     57\u001b[0m \u001b[38;5;66;03m# Compute solution\u001b[39;00m\n\u001b[0;32m---> 58\u001b[0m \u001b[43msolve\u001b[49m\u001b[43m(\u001b[49m\u001b[43ma\u001b[49m\u001b[43m \u001b[49m\u001b[38;5;241;43m==\u001b[39;49m\u001b[43m \u001b[49m\u001b[43mF\u001b[49m\u001b[43m,\u001b[49m\u001b[43m \u001b[49m\u001b[43mu\u001b[49m\u001b[43m)\u001b[49m\n\u001b[1;32m     60\u001b[0m \u001b[38;5;66;03m# Update previous solution\u001b[39;00m\n\u001b[1;32m     61\u001b[0m u_n\u001b[38;5;241m.\u001b[39massign(u)\n",
      "File \u001b[0;32m/usr/lib/petsc/lib/python3/dist-packages/dolfin/fem/solving.py:233\u001b[0m, in \u001b[0;36msolve\u001b[0;34m(*args, **kwargs)\u001b[0m\n\u001b[1;32m    230\u001b[0m \u001b[38;5;66;03m# Call variational problem solver if we get an equation (but not a\u001b[39;00m\n\u001b[1;32m    231\u001b[0m \u001b[38;5;66;03m# tolerance)\u001b[39;00m\n\u001b[1;32m    232\u001b[0m \u001b[38;5;28;01melif\u001b[39;00m \u001b[38;5;28misinstance\u001b[39m(args[\u001b[38;5;241m0\u001b[39m], ufl\u001b[38;5;241m.\u001b[39mclasses\u001b[38;5;241m.\u001b[39mEquation):\n\u001b[0;32m--> 233\u001b[0m     \u001b[43m_solve_varproblem\u001b[49m\u001b[43m(\u001b[49m\u001b[38;5;241;43m*\u001b[39;49m\u001b[43margs\u001b[49m\u001b[43m,\u001b[49m\u001b[43m \u001b[49m\u001b[38;5;241;43m*\u001b[39;49m\u001b[38;5;241;43m*\u001b[39;49m\u001b[43mkwargs\u001b[49m\u001b[43m)\u001b[49m\n\u001b[1;32m    235\u001b[0m \u001b[38;5;66;03m# Default case, just call the wrapped C++ solve function\u001b[39;00m\n\u001b[1;32m    236\u001b[0m \u001b[38;5;28;01melse\u001b[39;00m:\n\u001b[1;32m    237\u001b[0m     \u001b[38;5;28;01mif\u001b[39;00m kwargs:\n",
      "File \u001b[0;32m/usr/lib/petsc/lib/python3/dist-packages/dolfin/fem/solving.py:273\u001b[0m, in \u001b[0;36m_solve_varproblem\u001b[0;34m(*args, **kwargs)\u001b[0m\n\u001b[1;32m    271\u001b[0m         solver \u001b[38;5;241m=\u001b[39m LinearVariationalSolver(problem)\n\u001b[1;32m    272\u001b[0m         solver\u001b[38;5;241m.\u001b[39mparameters\u001b[38;5;241m.\u001b[39mupdate(solver_parameters)\n\u001b[0;32m--> 273\u001b[0m         \u001b[43msolver\u001b[49m\u001b[38;5;241;43m.\u001b[39;49m\u001b[43msolve\u001b[49m\u001b[43m(\u001b[49m\u001b[43m)\u001b[49m\n\u001b[1;32m    275\u001b[0m \u001b[38;5;66;03m# Solve nonlinear variational problem\u001b[39;00m\n\u001b[1;32m    276\u001b[0m \u001b[38;5;28;01melse\u001b[39;00m:\n\u001b[1;32m    278\u001b[0m     \u001b[38;5;28;01mif\u001b[39;00m u\u001b[38;5;241m.\u001b[39m_functions \u001b[38;5;129;01mis\u001b[39;00m \u001b[38;5;129;01mnot\u001b[39;00m \u001b[38;5;28;01mNone\u001b[39;00m:\n\u001b[1;32m    279\u001b[0m         \u001b[38;5;66;03m# Extract blocks from the variational formulation\u001b[39;00m\n",
      "\u001b[0;31mRuntimeError\u001b[0m: \n\n*** -------------------------------------------------------------------------\n*** DOLFIN encountered an error. If you are not able to resolve this issue\n*** using the information listed below, you can ask for help at\n***\n***     fenics-support@googlegroups.com\n***\n*** Remember to include the error message listed below and, if possible,\n*** include a *minimal* running example to reproduce the error.\n***\n*** -------------------------------------------------------------------------\n*** Error:   Unable to successfully call PETSc function 'KSPSolve'.\n*** Reason:  PETSc error code is: 76 (Error in external library).\n*** Where:   This error was encountered inside /build/dolfin-P9xfrX/dolfin-2019.2.0~git20220407.d29e24d/dolfin/la/PETScKrylovSolver.cpp.\n*** Process: 0\n*** \n*** DOLFIN version: 2019.2.0.dev0\n*** Git changeset:  unknown\n*** -------------------------------------------------------------------------\n"
     ]
    }
   ],
   "source": [
    "\n",
    "for i in range(1,len(N)):\n",
    "\n",
    "    # ---- Geometry ----\n",
    "\n",
    "    nx = ny = nz = N[i]\n",
    "\n",
    "    # Create mesh and define function space\n",
    "    hx = 1/nx\n",
    "    hy = 1/ny\n",
    "    hz = 1/nz\n",
    "    h = sqrt(hx*hx + hy*hy + hz*hz)     # square's diagonal (diam(elem))\n",
    "    mesh = UnitCubeMesh(nx, ny, nz)\n",
    "    V = FunctionSpace(mesh, \"DG\", p)\n",
    "\n",
    "    # DG stabilization coefficient\n",
    "    sigma = norm_D + p*p/h*alpha\n",
    "\n",
    "    # Projection of u_0 on V\n",
    "    u0h = interpolate(u0, V)\n",
    "\n",
    "    # ---- Variational problem ----\n",
    "\n",
    "    # Solution\n",
    "    u_n = u0h\n",
    "    u = TrialFunction(V)\n",
    "\n",
    "    # Test function\n",
    "    v = TestFunction(V)\n",
    "\n",
    "    # Outer normal\n",
    "    n = FacetNormal(mesh)\n",
    "\n",
    "    # DG bilinear form\n",
    "    B = inner(D*grad(u), grad(v))*dx - inner(avg(D*grad(u)), jump(v, n))*dS -\\\n",
    "        inner(avg(D*grad(v)), jump(u, n))*dS +\\\n",
    "        sigma*inner(jump(u, n), jump(v, n))*dS\n",
    "\n",
    "    # Final problem\n",
    "    a = u*v*dx + dt*B - dt*(1-u_n)*u*v*dx \n",
    "    F = u_n*v*dx + gN*v*ds + f*v*dx\n",
    "\n",
    "    # ---- Time-stepping ----\n",
    "\n",
    "    u = Function(V)\n",
    "\n",
    "    # Initial time\n",
    "    t = t0\n",
    "    \n",
    "    # Create VTK file for saving solution\n",
    "    vtkfile = File('solutions_convergence/' + filename + '/' + filename +'.pvd')\n",
    "\n",
    "    for n in range(num_steps):\n",
    "        \n",
    "        # Update current time\n",
    "        t += dt\n",
    "\n",
    "        # Compute solution\n",
    "        solve(a == F, u)\n",
    "\n",
    "        # Update previous solution\n",
    "        u_n.assign(u)\n",
    "        vtkfile << (u_n, t)\n",
    "\n",
    "    err_H1[i] = errornorm(u_ex, u, 'H1')\n",
    "    err_L2[i] = errornorm(u_ex, u, 'L2')\n",
    "    "
   ]
  },
  {
   "cell_type": "code",
   "execution_count": 8,
   "id": "7daf1d15",
   "metadata": {
    "scrolled": true
   },
   "outputs": [
    {
     "data": {
      "text/plain": [
       "array([0.4330127 , 0.21650635, 0.10825318, 0.05412659, 0.02706329,\n",
       "       0.01353165])"
      ]
     },
     "execution_count": 8,
     "metadata": {},
     "output_type": "execute_result"
    }
   ],
   "source": [
    "# Compute the error rates\n",
    "h = np.sqrt(1/N*1/N + 1/N*1/N + 1/N*1/N) \n",
    "order_H1 = np.log(err_H1[1:(len(err_H1)-1)]/err_H1[2:len(err_H1)]) / np.log(h[1:(len(h)-1)]/h[2:len(h)])\n",
    "order_L2 = np.log(err_L2[1:(len(err_L2)-1)]/err_L2[2:len(err_L2)]) / np.log(h[1:(len(h)-1)]/h[2:len(h)])"
   ]
  }
 ],
 "metadata": {
  "kernelspec": {
   "display_name": "Python 3 (ipykernel)",
   "language": "python",
   "name": "python3"
  },
  "language_info": {
   "codemirror_mode": {
    "name": "ipython",
    "version": 3
   },
   "file_extension": ".py",
   "mimetype": "text/x-python",
   "name": "python",
   "nbconvert_exporter": "python",
   "pygments_lexer": "ipython3",
   "version": "3.8.10"
  }
 },
 "nbformat": 4,
 "nbformat_minor": 5
}
